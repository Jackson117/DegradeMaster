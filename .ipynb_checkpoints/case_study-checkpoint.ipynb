{
 "cells": [
  {
   "metadata": {},
   "cell_type": "raw",
   "source": "",
   "id": "1fe01bf2b902b31"
  }
 ],
 "metadata": {},
 "nbformat": 4,
 "nbformat_minor": 5
}
